{
 "cells": [
  {
   "cell_type": "code",
   "execution_count": 1,
   "id": "cdc88a65-16ae-466e-a8ef-52e9f1affc2a",
   "metadata": {},
   "outputs": [
    {
     "name": "stdout",
     "output_type": "stream",
     "text": [
      "Requirement already satisfied: opencv-python in c:\\users\\naina\\appdata\\local\\programs\\python\\python312\\lib\\site-packages (4.10.0.84)\n",
      "Requirement already satisfied: numpy>=1.21.2 in c:\\users\\naina\\appdata\\local\\programs\\python\\python312\\lib\\site-packages (from opencv-python) (1.26.4)\n"
     ]
    },
    {
     "name": "stderr",
     "output_type": "stream",
     "text": [
      "\n",
      "[notice] A new release of pip is available: 24.1.2 -> 24.3.1\n",
      "[notice] To update, run: python.exe -m pip install --upgrade pip\n"
     ]
    }
   ],
   "source": [
    "! pip install opencv-python\n"
   ]
  },
  {
   "cell_type": "code",
   "execution_count": 2,
   "id": "1918d07f-0acb-400e-b039-3187f228b94c",
   "metadata": {},
   "outputs": [],
   "source": [
    "import cv2\n"
   ]
  },
  {
   "cell_type": "code",
   "execution_count": 3,
   "id": "2f6d7001-77c7-44a2-a59a-e2e98737e27f",
   "metadata": {},
   "outputs": [
    {
     "name": "stdout",
     "output_type": "stream",
     "text": [
      "Microsoft Windows [Version 10.0.22631.4460]\n",
      "(c) Microsoft Corporation. All rights reserved.\n",
      "\n",
      "D:\\face_recognition>pip install cmake\n",
      "Requirement already satisfied: cmake in c:\\users\\naina\\appdata\\local\\programs\\python\\python312\\lib\\site-packages (3.31.0.1)\n"
     ]
    },
    {
     "name": "stderr",
     "output_type": "stream",
     "text": [
      "\n",
      "[notice] A new release of pip is available: 24.1.2 -> 24.3.1\n",
      "[notice] To update, run: python.exe -m pip install --upgrade pip\n"
     ]
    },
    {
     "name": "stdout",
     "output_type": "stream",
     "text": [
      "\n",
      "D:\\face_recognition>"
     ]
    }
   ],
   "source": [
    "%%cmd\n",
    "pip install cmake"
   ]
  },
  {
   "cell_type": "code",
   "execution_count": 4,
   "id": "fd4f0301-13a1-44b4-a1fc-290353e7367f",
   "metadata": {},
   "outputs": [
    {
     "name": "stdout",
     "output_type": "stream",
     "text": [
      "Microsoft Windows [Version 10.0.22631.4460]\n",
      "(c) Microsoft Corporation. All rights reserved.\n",
      "\n",
      "D:\\face_recognition>pip install \"D:\\face_recognition\\dlib-19.24.99-cp312-cp312-win_amd64.whl\"\n",
      "Processing d:\\face_recognition\\dlib-19.24.99-cp312-cp312-win_amd64.whl\n",
      "dlib is already installed with the same version as the provided wheel. Use --force-reinstall to force an installation of the wheel.\n"
     ]
    },
    {
     "name": "stderr",
     "output_type": "stream",
     "text": [
      "\n",
      "[notice] A new release of pip is available: 24.1.2 -> 24.3.1\n",
      "[notice] To update, run: python.exe -m pip install --upgrade pip\n"
     ]
    },
    {
     "name": "stdout",
     "output_type": "stream",
     "text": [
      "\n",
      "D:\\face_recognition>"
     ]
    }
   ],
   "source": [
    "%%cmd\n",
    "pip install \"D:\\face_recognition\\dlib-19.24.99-cp312-cp312-win_amd64.whl\""
   ]
  },
  {
   "cell_type": "code",
   "execution_count": 5,
   "id": "cd839eaa-b6a3-4a7e-bc92-606bd66e734c",
   "metadata": {},
   "outputs": [
    {
     "name": "stdout",
     "output_type": "stream",
     "text": [
      "Microsoft Windows [Version 10.0.22631.4460]\n",
      "(c) Microsoft Corporation. All rights reserved.\n",
      "\n",
      "D:\\face_recognition>pip install face-recognition\n",
      "Requirement already satisfied: face-recognition in c:\\users\\naina\\appdata\\local\\programs\\python\\python312\\lib\\site-packages (1.3.0)\n",
      "Requirement already satisfied: face-recognition-models>=0.3.0 in c:\\users\\naina\\appdata\\local\\programs\\python\\python312\\lib\\site-packages (from face-recognition) (0.3.0)\n",
      "Requirement already satisfied: Click>=6.0 in c:\\users\\naina\\appdata\\local\\programs\\python\\python312\\lib\\site-packages (from face-recognition) (8.1.7)\n",
      "Requirement already satisfied: dlib>=19.7 in c:\\users\\naina\\appdata\\local\\programs\\python\\python312\\lib\\site-packages (from face-recognition) (19.24.99)\n",
      "Requirement already satisfied: numpy in c:\\users\\naina\\appdata\\local\\programs\\python\\python312\\lib\\site-packages (from face-recognition) (1.26.4)\n",
      "Requirement already satisfied: Pillow in c:\\users\\naina\\appdata\\local\\programs\\python\\python312\\lib\\site-packages (from face-recognition) (10.3.0)\n",
      "Requirement already satisfied: colorama in c:\\users\\naina\\appdata\\local\\programs\\python\\python312\\lib\\site-packages (from Click>=6.0->face-recognition) (0.4.6)\n"
     ]
    },
    {
     "name": "stderr",
     "output_type": "stream",
     "text": [
      "\n",
      "[notice] A new release of pip is available: 24.1.2 -> 24.3.1\n",
      "[notice] To update, run: python.exe -m pip install --upgrade pip\n"
     ]
    },
    {
     "name": "stdout",
     "output_type": "stream",
     "text": [
      "\n",
      "D:\\face_recognition>"
     ]
    }
   ],
   "source": [
    "%%cmd\n",
    "pip install face-recognition"
   ]
  },
  {
   "cell_type": "code",
   "execution_count": 6,
   "id": "1579f102-2757-416a-a8a1-d85d969adac8",
   "metadata": {},
   "outputs": [
    {
     "name": "stdout",
     "output_type": "stream",
     "text": [
      "Microsoft Windows [Version 10.0.22631.4460]\n",
      "(c) Microsoft Corporation. All rights reserved.\n",
      "\n",
      "D:\\face_recognition>pip install setuptools --upgrade\n",
      "Requirement already satisfied: setuptools in c:\\users\\naina\\appdata\\local\\programs\\python\\python312\\lib\\site-packages (75.5.0)\n"
     ]
    },
    {
     "name": "stderr",
     "output_type": "stream",
     "text": [
      "\n",
      "[notice] A new release of pip is available: 24.1.2 -> 24.3.1\n",
      "[notice] To update, run: python.exe -m pip install --upgrade pip\n"
     ]
    },
    {
     "name": "stdout",
     "output_type": "stream",
     "text": [
      "\n",
      "D:\\face_recognition>"
     ]
    }
   ],
   "source": [
    "%%cmd\n",
    "pip install setuptools --upgrade\n"
   ]
  },
  {
   "cell_type": "code",
   "execution_count": 7,
   "id": "d904e9a9-5c2c-4093-a3e2-3df9bafeaad4",
   "metadata": {},
   "outputs": [
    {
     "name": "stdout",
     "output_type": "stream",
     "text": [
      "Loaded known faces: ['photo1', 'photo2']\n"
     ]
    },
    {
     "ename": "TypeError",
     "evalue": "compute_face_descriptor(): incompatible function arguments. The following argument types are supported:\n    1. (self: _dlib_pybind11.face_recognition_model_v1, img: numpy.ndarray[(rows,cols,3),numpy.uint8], face: _dlib_pybind11.full_object_detection, num_jitters: int = 0, padding: float = 0.25) -> _dlib_pybind11.vector\n    2. (self: _dlib_pybind11.face_recognition_model_v1, img: numpy.ndarray[(rows,cols,3),numpy.uint8], num_jitters: int = 0) -> _dlib_pybind11.vector\n    3. (self: _dlib_pybind11.face_recognition_model_v1, img: numpy.ndarray[(rows,cols,3),numpy.uint8], faces: _dlib_pybind11.full_object_detections, num_jitters: int = 0, padding: float = 0.25) -> _dlib_pybind11.vectors\n    4. (self: _dlib_pybind11.face_recognition_model_v1, batch_img: List[numpy.ndarray[(rows,cols,3),numpy.uint8]], batch_faces: List[_dlib_pybind11.full_object_detections], num_jitters: int = 0, padding: float = 0.25) -> _dlib_pybind11.vectorss\n    5. (self: _dlib_pybind11.face_recognition_model_v1, batch_img: List[numpy.ndarray[(rows,cols,3),numpy.uint8]], num_jitters: int = 0) -> _dlib_pybind11.vectors\n\nInvoked with: <_dlib_pybind11.face_recognition_model_v1 object at 0x0000024FD09999B0>, array([[[162, 166, 158],\n        [159, 167, 157],\n        [157, 167, 158],\n        ...,\n        [167, 187, 181],\n        [164, 188, 184],\n        [164, 188, 184]],\n\n       [[156, 166, 160],\n        [161, 169, 161],\n        [161, 168, 161],\n        ...,\n        [170, 184, 180],\n        [170, 185, 181],\n        [169, 188, 183]],\n\n       [[163, 169, 169],\n        [160, 166, 164],\n        [159, 165, 162],\n        ...,\n        [168, 188, 183],\n        [166, 187, 181],\n        [168, 188, 181]],\n\n       ...,\n\n       [[156, 156, 151],\n        [156, 156, 155],\n        [153, 156, 155],\n        ...,\n        [ 39,  18,  14],\n        [ 34,  13,  10],\n        [ 20,  11,   3]],\n\n       [[157, 154, 148],\n        [154, 156, 148],\n        [154, 157, 151],\n        ...,\n        [ 30,  17,  12],\n        [ 22,   9,   6],\n        [ 10,   8,   5]],\n\n       [[156, 155, 152],\n        [156, 153, 149],\n        [157, 157, 152],\n        ...,\n        [ 16,  10,   8],\n        [ 14,   7,   6],\n        [  8,   8,   7]]], dtype=uint8), <_dlib_pybind11.full_object_detection object at 0x0000024FC177D270>, 1",
     "output_type": "error",
     "traceback": [
      "\u001b[1;31m---------------------------------------------------------------------------\u001b[0m",
      "\u001b[1;31mTypeError\u001b[0m                                 Traceback (most recent call last)",
      "Cell \u001b[1;32mIn[7], line 45\u001b[0m\n\u001b[0;32m     43\u001b[0m \u001b[38;5;66;03m# Find all face locations and face encodings in the frame using CNN\u001b[39;00m\n\u001b[0;32m     44\u001b[0m face_locations \u001b[38;5;241m=\u001b[39m face_recognition\u001b[38;5;241m.\u001b[39mface_locations(rgb_small_frame, model\u001b[38;5;241m=\u001b[39m\u001b[38;5;124m'\u001b[39m\u001b[38;5;124mcnn\u001b[39m\u001b[38;5;124m'\u001b[39m)\n\u001b[1;32m---> 45\u001b[0m face_encodings \u001b[38;5;241m=\u001b[39m \u001b[43mface_recognition\u001b[49m\u001b[38;5;241;43m.\u001b[39;49m\u001b[43mface_encodings\u001b[49m\u001b[43m(\u001b[49m\u001b[43mrgb_small_frame\u001b[49m\u001b[43m,\u001b[49m\u001b[43m \u001b[49m\u001b[43mface_locations\u001b[49m\u001b[43m)\u001b[49m\n\u001b[0;32m     47\u001b[0m face_labels \u001b[38;5;241m=\u001b[39m []\n\u001b[0;32m     48\u001b[0m \u001b[38;5;28;01mfor\u001b[39;00m face_encoding \u001b[38;5;129;01min\u001b[39;00m face_encodings:\n\u001b[0;32m     49\u001b[0m     \u001b[38;5;66;03m# Compare face encodings with known faces\u001b[39;00m\n",
      "File \u001b[1;32m~\\AppData\\Local\\Programs\\Python\\Python312\\Lib\\site-packages\\face_recognition\\api.py:214\u001b[0m, in \u001b[0;36mface_encodings\u001b[1;34m(face_image, known_face_locations, num_jitters, model)\u001b[0m\n\u001b[0;32m    204\u001b[0m \u001b[38;5;250m\u001b[39m\u001b[38;5;124;03m\"\"\"\u001b[39;00m\n\u001b[0;32m    205\u001b[0m \u001b[38;5;124;03mGiven an image, return the 128-dimension face encoding for each face in the image.\u001b[39;00m\n\u001b[0;32m    206\u001b[0m \n\u001b[1;32m   (...)\u001b[0m\n\u001b[0;32m    211\u001b[0m \u001b[38;5;124;03m:return: A list of 128-dimensional face encodings (one for each face in the image)\u001b[39;00m\n\u001b[0;32m    212\u001b[0m \u001b[38;5;124;03m\"\"\"\u001b[39;00m\n\u001b[0;32m    213\u001b[0m raw_landmarks \u001b[38;5;241m=\u001b[39m _raw_face_landmarks(face_image, known_face_locations, model)\n\u001b[1;32m--> 214\u001b[0m \u001b[38;5;28;01mreturn\u001b[39;00m [np\u001b[38;5;241m.\u001b[39marray(\u001b[43mface_encoder\u001b[49m\u001b[38;5;241;43m.\u001b[39;49m\u001b[43mcompute_face_descriptor\u001b[49m\u001b[43m(\u001b[49m\u001b[43mface_image\u001b[49m\u001b[43m,\u001b[49m\u001b[43m \u001b[49m\u001b[43mraw_landmark_set\u001b[49m\u001b[43m,\u001b[49m\u001b[43m \u001b[49m\u001b[43mnum_jitters\u001b[49m\u001b[43m)\u001b[49m) \u001b[38;5;28;01mfor\u001b[39;00m raw_landmark_set \u001b[38;5;129;01min\u001b[39;00m raw_landmarks]\n",
      "\u001b[1;31mTypeError\u001b[0m: compute_face_descriptor(): incompatible function arguments. The following argument types are supported:\n    1. (self: _dlib_pybind11.face_recognition_model_v1, img: numpy.ndarray[(rows,cols,3),numpy.uint8], face: _dlib_pybind11.full_object_detection, num_jitters: int = 0, padding: float = 0.25) -> _dlib_pybind11.vector\n    2. (self: _dlib_pybind11.face_recognition_model_v1, img: numpy.ndarray[(rows,cols,3),numpy.uint8], num_jitters: int = 0) -> _dlib_pybind11.vector\n    3. (self: _dlib_pybind11.face_recognition_model_v1, img: numpy.ndarray[(rows,cols,3),numpy.uint8], faces: _dlib_pybind11.full_object_detections, num_jitters: int = 0, padding: float = 0.25) -> _dlib_pybind11.vectors\n    4. (self: _dlib_pybind11.face_recognition_model_v1, batch_img: List[numpy.ndarray[(rows,cols,3),numpy.uint8]], batch_faces: List[_dlib_pybind11.full_object_detections], num_jitters: int = 0, padding: float = 0.25) -> _dlib_pybind11.vectorss\n    5. (self: _dlib_pybind11.face_recognition_model_v1, batch_img: List[numpy.ndarray[(rows,cols,3),numpy.uint8]], num_jitters: int = 0) -> _dlib_pybind11.vectors\n\nInvoked with: <_dlib_pybind11.face_recognition_model_v1 object at 0x0000024FD09999B0>, array([[[162, 166, 158],\n        [159, 167, 157],\n        [157, 167, 158],\n        ...,\n        [167, 187, 181],\n        [164, 188, 184],\n        [164, 188, 184]],\n\n       [[156, 166, 160],\n        [161, 169, 161],\n        [161, 168, 161],\n        ...,\n        [170, 184, 180],\n        [170, 185, 181],\n        [169, 188, 183]],\n\n       [[163, 169, 169],\n        [160, 166, 164],\n        [159, 165, 162],\n        ...,\n        [168, 188, 183],\n        [166, 187, 181],\n        [168, 188, 181]],\n\n       ...,\n\n       [[156, 156, 151],\n        [156, 156, 155],\n        [153, 156, 155],\n        ...,\n        [ 39,  18,  14],\n        [ 34,  13,  10],\n        [ 20,  11,   3]],\n\n       [[157, 154, 148],\n        [154, 156, 148],\n        [154, 157, 151],\n        ...,\n        [ 30,  17,  12],\n        [ 22,   9,   6],\n        [ 10,   8,   5]],\n\n       [[156, 155, 152],\n        [156, 153, 149],\n        [157, 157, 152],\n        ...,\n        [ 16,  10,   8],\n        [ 14,   7,   6],\n        [  8,   8,   7]]], dtype=uint8), <_dlib_pybind11.full_object_detection object at 0x0000024FC177D270>, 1"
     ]
    }
   ],
   "source": [
    "import face_recognition\n",
    "import cv2\n",
    "import os\n",
    "import numpy as np\n",
    "\n",
    "# Load known face encodings and labels\n",
    "def load_known_faces(known_faces_dir):\n",
    "    known_encodings = []\n",
    "    known_labels = []\n",
    "\n",
    "    for filename in os.listdir(known_faces_dir):\n",
    "        if filename.endswith(('.jpg', '.png')):\n",
    "            filepath = os.path.join(known_faces_dir, filename)\n",
    "            image = face_recognition.load_image_file(filepath)\n",
    "            encoding = face_recognition.face_encodings(image)[0]\n",
    "            known_encodings.append(encoding)\n",
    "            # Use the file name (without extension) as the label\n",
    "            label = os.path.splitext(filename)[0]\n",
    "            known_labels.append(label)\n",
    "\n",
    "    return known_encodings, known_labels\n",
    "\n",
    "\n",
    "# Initialize video capture (0 for default camera)\n",
    "video_capture = cv2.VideoCapture(0)\n",
    "\n",
    "# Load known faces\n",
    "known_faces_dir = \"known_faces\"\n",
    "known_encodings, known_labels = load_known_faces(known_faces_dir)\n",
    "\n",
    "print(\"Loaded known faces:\", known_labels)\n",
    "\n",
    "while True:\n",
    "    # Capture frame-by-frame\n",
    "    ret, frame = video_capture.read()\n",
    "    if not ret:\n",
    "        break\n",
    "\n",
    "    # Resize frame for faster processing\n",
    "    small_frame = cv2.resize(frame, (0, 0), fx=0.25, fy=0.25)\n",
    "    rgb_small_frame = small_frame[:, :, ::-1]\n",
    "\n",
    "    # Find all face locations and face encodings in the frame using CNN\n",
    "    face_locations = face_recognition.face_locations(rgb_small_frame, model='cnn')\n",
    "    face_encodings = face_recognition.face_encodings(rgb_small_frame, face_locations)\n",
    "\n",
    "    face_labels = []\n",
    "    for face_encoding in face_encodings:\n",
    "        # Compare face encodings with known faces\n",
    "        matches = face_recognition.compare_faces(known_encodings, face_encoding)\n",
    "        face_distances = face_recognition.face_distance(known_encodings, face_encoding)\n",
    "\n",
    "        # Find the best match\n",
    "        best_match_index = np.argmin(face_distances) if len(face_distances) > 0 else None\n",
    "        label = \"Unknown\"\n",
    "\n",
    "        if best_match_index is not None and matches[best_match_index]:\n",
    "            label = known_labels[best_match_index]\n",
    "\n",
    "        face_labels.append(label)\n",
    "\n",
    "    # Display results\n",
    "    for (top, right, bottom, left), label in zip(face_locations, face_labels):\n",
    "        # Scale back up face locations since the frame was scaled down\n",
    "        top *= 4\n",
    "        right *= 4\n",
    "        bottom *= 4\n",
    "        left *= 4\n",
    "\n",
    "        # Draw a box around the face\n",
    "        cv2.rectangle(frame, (left, top), (right, bottom), (0, 255, 0), 2)\n",
    "\n",
    "        # Draw a label with the name below the face\n",
    "        cv2.rectangle(frame, (left, bottom + 35), (right, bottom), (0, 255, 0), cv2.FILLED)\n",
    "        cv2.putText(frame, label, (left + 6, bottom + 24), cv2.FONT_HERSHEY_DUPLEX, 0.6, (255, 255, 255), 1)\n",
    "\n",
    "    # Display the resulting image\n",
    "    cv2.imshow('Face Recognition', frame)\n",
    "\n",
    "    # Break the loop if 'q' is pressed\n",
    "    if cv2.waitKey(1) & 0xFF == ord('q'):\n",
    "        break\n",
    "\n",
    "# Release video capture and close windows\n",
    "video_capture.release()\n",
    "cv2.destroyAllWindows()\n",
    "\n"
   ]
  },
  {
   "cell_type": "code",
   "execution_count": null,
   "id": "81ea9bac-2410-4d54-a1e2-8ff3f6d282e2",
   "metadata": {},
   "outputs": [],
   "source": []
  }
 ],
 "metadata": {
  "kernelspec": {
   "display_name": "Python 3 (ipykernel)",
   "language": "python",
   "name": "python3"
  },
  "language_info": {
   "codemirror_mode": {
    "name": "ipython",
    "version": 3
   },
   "file_extension": ".py",
   "mimetype": "text/x-python",
   "name": "python",
   "nbconvert_exporter": "python",
   "pygments_lexer": "ipython3",
   "version": "3.12.3"
  }
 },
 "nbformat": 4,
 "nbformat_minor": 5
}
